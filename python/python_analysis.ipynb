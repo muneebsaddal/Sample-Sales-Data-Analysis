{
 "cells": [
  {
   "cell_type": "markdown",
   "id": "25ab8cc8",
   "metadata": {},
   "source": [
    "**IMPORTS**"
   ]
  },
  {
   "cell_type": "code",
   "execution_count": 16,
   "id": "89d54818",
   "metadata": {},
   "outputs": [],
   "source": [
    "#All imports\n",
    "import pyodbc\n",
    "import pandas as pd\n",
    "from numpy import int64"
   ]
  },
  {
   "cell_type": "markdown",
   "id": "8850dfc5",
   "metadata": {},
   "source": [
    "**FETCH DATA FROM SQL SERVER**"
   ]
  },
  {
   "cell_type": "code",
   "execution_count": 17,
   "id": "028eb07d",
   "metadata": {},
   "outputs": [
    {
     "name": "stderr",
     "output_type": "stream",
     "text": [
      "C:\\Users\\munee\\AppData\\Local\\Temp\\ipykernel_3988\\1936504081.py:11: UserWarning: pandas only supports SQLAlchemy connectable (engine/connection) or database string URI or sqlite3 DBAPI2 connection. Other DBAPI2 objects are not tested. Please consider using SQLAlchemy.\n",
      "  df = pd.read_sql(query, conn)\n"
     ]
    }
   ],
   "source": [
    "#Connect to SQL database using 'pyodbc' \n",
    "conn = pyodbc.connect(\n",
    "    \"DRIVER={ODBC Driver 17 for SQL Server};\"\n",
    "    \"SERVER=MUNEEBS-PC\\\\BARTENDER;\"\n",
    "    \"DATABASE=SampleSalesDB;\"\n",
    "    \"Trusted_Connection=yes;\"\n",
    ")\n",
    "\n",
    "#Query all the data from database and store in pandas\n",
    "query = \"SELECT * FROM dbo.sales_data_sample\"\n",
    "df = pd.read_sql(query, conn)\n",
    "# print(df.head())"
   ]
  },
  {
   "cell_type": "markdown",
   "id": "cd1368c2",
   "metadata": {},
   "source": [
    "**HANDLE NULL VALUES**"
   ]
  },
  {
   "cell_type": "code",
   "execution_count": 18,
   "id": "aca3fc8a",
   "metadata": {},
   "outputs": [],
   "source": [
    "'''\n",
    "HANDLING NULL VALUES\n",
    "'''\n",
    "#Check and Remove null values\n",
    "df = df.fillna(\"\")\n",
    "# print(df.isnull().sum())\n",
    "\n",
    "#Combine addressline1 and addressline2 to make new column ADDRESS\n",
    "df[\"ADDRESS\"] = df[\"ADDRESSLINE1\"] + \" \" + df[\"ADDRESSLINE2\"]\n",
    "\n",
    "#Drop the column ADDRESSLINE1 AND ADDRESSLINE2\n",
    "df = df.drop(columns=[\"ADDRESSLINE1\", \"ADDRESSLINE2\"])"
   ]
  },
  {
   "cell_type": "markdown",
   "id": "ef483cb7",
   "metadata": {},
   "source": [
    "**VALIDATE DATATYPES**"
   ]
  },
  {
   "cell_type": "code",
   "execution_count": 19,
   "id": "e9a9429a",
   "metadata": {},
   "outputs": [],
   "source": [
    "# Get all column names and their datatypes\n",
    "# print(df.dtypes)\n",
    "\n",
    "#Change dtype of month_id to int and orderDate to datetime\n",
    "df[\"MONTH_ID\"] = df[\"MONTH_ID\"].astype(int64)\n",
    "df[\"ORDERDATE\"] = pd.to_datetime(df[\"ORDERDATE\"])"
   ]
  }
 ],
 "metadata": {
  "kernelspec": {
   "display_name": "Python 3",
   "language": "python",
   "name": "python3"
  },
  "language_info": {
   "codemirror_mode": {
    "name": "ipython",
    "version": 3
   },
   "file_extension": ".py",
   "mimetype": "text/x-python",
   "name": "python",
   "nbconvert_exporter": "python",
   "pygments_lexer": "ipython3",
   "version": "3.13.0"
  }
 },
 "nbformat": 4,
 "nbformat_minor": 5
}
