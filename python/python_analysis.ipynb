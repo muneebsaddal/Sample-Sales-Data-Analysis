{
 "cells": [
  {
   "cell_type": "code",
   "execution_count": 16,
   "id": "89d54818",
   "metadata": {},
   "outputs": [],
   "source": [
    "import pyodbc\n",
    "import pandas as pd"
   ]
  },
  {
   "cell_type": "code",
   "execution_count": 17,
   "id": "028eb07d",
   "metadata": {},
   "outputs": [],
   "source": [
    "conn = pyodbc.connect(\n",
    "    \"DRIVER={ODBC Driver 17 for SQL Server};\"\n",
    "    \"SERVER=MUNEEBS-PC\\\\BARTENDER;\"\n",
    "    \"DATABASE=SampleSalesDB;\"\n",
    "    \"Trusted_Connection=yes;\"\n",
    ")"
   ]
  },
  {
   "cell_type": "code",
   "execution_count": 21,
   "id": "48666461",
   "metadata": {},
   "outputs": [
    {
     "name": "stdout",
     "output_type": "stream",
     "text": [
      "   ORDERNUMBER  QUANTITYORDERED  PRICEEACH ORDERLINENUMBER    SALES  \\\n",
      "0        10107               30      95.70               2  2871.00   \n",
      "1        10121               34      81.35               5  2765.90   \n",
      "2        10134               41      94.74               2  3884.34   \n",
      "3        10145               45      83.26               6  3746.70   \n",
      "4        10159               49     100.00              14  5205.27   \n",
      "\n",
      "         ORDERDATE   STATUS QTR_ID MONTH_ID  YEAR_ID  ...  \\\n",
      "0   2/24/2003 0:00  Shipped      1        2     2003  ...   \n",
      "1    5/7/2003 0:00  Shipped      2        5     2003  ...   \n",
      "2    7/1/2003 0:00  Shipped      3        7     2003  ...   \n",
      "3   8/25/2003 0:00  Shipped      3        8     2003  ...   \n",
      "4  10/10/2003 0:00  Shipped      4       10     2003  ...   \n",
      "\n",
      "                    ADDRESSLINE1  ADDRESSLINE2           CITY STATE  \\\n",
      "0        897 Long Airport Avenue          None            NYC    NY   \n",
      "1             59 rue de l'Abbaye          None          Reims  None   \n",
      "2  27 rue du Colonel Pierre Avia          None          Paris  None   \n",
      "3             78934 Hillside Dr.          None       Pasadena    CA   \n",
      "4                7734 Strong St.          None  San Francisco    CA   \n",
      "\n",
      "  POSTALCODE COUNTRY TERRITORY CONTACTLASTNAME CONTACTFIRSTNAME DEALSIZE  \n",
      "0      10022     USA        NA              Yu             Kwai    Small  \n",
      "1      51100  France      EMEA         Henriot             Paul    Small  \n",
      "2      75508  France      EMEA        Da Cunha           Daniel   Medium  \n",
      "3      90003     USA        NA           Young            Julie   Medium  \n",
      "4       None     USA        NA           Brown            Julie   Medium  \n",
      "\n",
      "[5 rows x 25 columns]\n"
     ]
    },
    {
     "name": "stderr",
     "output_type": "stream",
     "text": [
      "C:\\Users\\munee\\AppData\\Local\\Temp\\ipykernel_17232\\2308222493.py:2: UserWarning: pandas only supports SQLAlchemy connectable (engine/connection) or database string URI or sqlite3 DBAPI2 connection. Other DBAPI2 objects are not tested. Please consider using SQLAlchemy.\n",
      "  df = pd.read_sql(query, conn)\n"
     ]
    }
   ],
   "source": [
    "query = \"SELECT * FROM dbo.sales_data_sample\"\n",
    "df = pd.read_sql(query, conn)\n",
    "\n",
    "print(df.head())"
   ]
  }
 ],
 "metadata": {
  "kernelspec": {
   "display_name": "Python 3",
   "language": "python",
   "name": "python3"
  },
  "language_info": {
   "codemirror_mode": {
    "name": "ipython",
    "version": 3
   },
   "file_extension": ".py",
   "mimetype": "text/x-python",
   "name": "python",
   "nbconvert_exporter": "python",
   "pygments_lexer": "ipython3",
   "version": "3.13.0"
  }
 },
 "nbformat": 4,
 "nbformat_minor": 5
}
